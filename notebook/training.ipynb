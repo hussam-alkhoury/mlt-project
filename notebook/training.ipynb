{
 "cells": [
  {
   "cell_type": "markdown",
   "id": "589a519b",
   "metadata": {},
   "source": [
    "# Feature Engineering & Model Training"
   ]
  },
  {
   "cell_type": "code",
   "execution_count": 2,
   "id": "d463e146",
   "metadata": {},
   "outputs": [
    {
     "name": "stderr",
     "output_type": "stream",
     "text": [
      "/Users/hussam/Desktop/dev-learning/mlt-project/.venv/lib/python3.12/site-packages/tqdm/auto.py:21: TqdmWarning: IProgress not found. Please update jupyter and ipywidgets. See https://ipywidgets.readthedocs.io/en/stable/user_install.html\n",
      "  from .autonotebook import tqdm as notebook_tqdm\n",
      "/Users/hussam/Desktop/dev-learning/mlt-project/.venv/lib/python3.12/site-packages/sklearn/linear_model/_linear_loss.py:200: RuntimeWarning: divide by zero encountered in matmul\n",
      "  raw_prediction = X @ weights + intercept\n",
      "/Users/hussam/Desktop/dev-learning/mlt-project/.venv/lib/python3.12/site-packages/sklearn/linear_model/_linear_loss.py:200: RuntimeWarning: overflow encountered in matmul\n",
      "  raw_prediction = X @ weights + intercept\n",
      "/Users/hussam/Desktop/dev-learning/mlt-project/.venv/lib/python3.12/site-packages/sklearn/linear_model/_linear_loss.py:200: RuntimeWarning: invalid value encountered in matmul\n",
      "  raw_prediction = X @ weights + intercept\n",
      "/Users/hussam/Desktop/dev-learning/mlt-project/.venv/lib/python3.12/site-packages/sklearn/linear_model/_linear_loss.py:330: RuntimeWarning: divide by zero encountered in matmul\n",
      "  grad[:n_features] = X.T @ grad_pointwise + l2_reg_strength * weights\n",
      "/Users/hussam/Desktop/dev-learning/mlt-project/.venv/lib/python3.12/site-packages/sklearn/linear_model/_linear_loss.py:330: RuntimeWarning: overflow encountered in matmul\n",
      "  grad[:n_features] = X.T @ grad_pointwise + l2_reg_strength * weights\n",
      "/Users/hussam/Desktop/dev-learning/mlt-project/.venv/lib/python3.12/site-packages/sklearn/linear_model/_linear_loss.py:330: RuntimeWarning: invalid value encountered in matmul\n",
      "  grad[:n_features] = X.T @ grad_pointwise + l2_reg_strength * weights\n",
      "/Users/hussam/Desktop/dev-learning/mlt-project/.venv/lib/python3.12/site-packages/sklearn/utils/extmath.py:203: RuntimeWarning: divide by zero encountered in matmul\n",
      "  ret = a @ b\n",
      "/Users/hussam/Desktop/dev-learning/mlt-project/.venv/lib/python3.12/site-packages/sklearn/utils/extmath.py:203: RuntimeWarning: overflow encountered in matmul\n",
      "  ret = a @ b\n",
      "/Users/hussam/Desktop/dev-learning/mlt-project/.venv/lib/python3.12/site-packages/sklearn/utils/extmath.py:203: RuntimeWarning: invalid value encountered in matmul\n",
      "  ret = a @ b\n"
     ]
    },
    {
     "name": "stdout",
     "output_type": "stream",
     "text": [
      "\n",
      "\u001b[1mLogistic Regression Results:\u001b[0m\n",
      "              precision    recall  f1-score   support\n",
      "\n",
      "           0      0.947     0.419     0.581        43\n",
      "           1      0.760     0.988     0.859        80\n",
      "\n",
      "    accuracy                          0.789       123\n",
      "   macro avg      0.853     0.703     0.720       123\n",
      "weighted avg      0.825     0.789     0.761       123\n",
      "\n",
      "\n",
      "\u001b[1mDecision Tree Results:\u001b[0m\n",
      "              precision    recall  f1-score   support\n",
      "\n",
      "           0      0.575     0.535     0.554        43\n",
      "           1      0.759     0.787     0.773        80\n",
      "\n",
      "    accuracy                          0.699       123\n",
      "   macro avg      0.667     0.661     0.664       123\n",
      "weighted avg      0.695     0.699     0.697       123\n",
      "\n",
      "\n",
      "\u001b[1mRandom Forest Results:\u001b[0m\n",
      "              precision    recall  f1-score   support\n",
      "\n",
      "           0      0.857     0.419     0.562        43\n",
      "           1      0.755     0.963     0.846        80\n",
      "\n",
      "    accuracy                          0.772       123\n",
      "   macro avg      0.806     0.691     0.704       123\n",
      "weighted avg      0.791     0.772     0.747       123\n",
      "\n",
      "\n",
      "\u001b[1mBest Random Forest Model from GridSearchCV:\u001b[0m\n",
      "{'max_depth': 5, 'min_samples_split': 2, 'n_estimators': 100}\n",
      "\n",
      "\u001b[1mRandom Forest with Best Params Results:\u001b[0m\n",
      "              precision    recall  f1-score   support\n",
      "\n",
      "           0      0.947     0.419     0.581        43\n",
      "           1      0.760     0.988     0.859        80\n",
      "\n",
      "    accuracy                          0.789       123\n",
      "   macro avg      0.853     0.703     0.720       123\n",
      "weighted avg      0.825     0.789     0.761       123\n",
      "\n"
     ]
    }
   ],
   "source": [
    "import pandas as pd\n",
    "import shap\n",
    "import matplotlib.pyplot as plt \n",
    "import seaborn as sns\n",
    "import joblib\n",
    "from sklearn.model_selection import train_test_split, GridSearchCV\n",
    "from sklearn.preprocessing import StandardScaler\n",
    "from sklearn.metrics import accuracy_score, precision_score, recall_score, f1_score, classification_report\n",
    "from sklearn.linear_model import LogisticRegression\n",
    "from sklearn.tree import DecisionTreeClassifier\n",
    "from sklearn.ensemble import RandomForestClassifier\n",
    "\n",
    "# Load cleaned dataset\n",
    "df = pd.read_csv(\"../data/cleaned_loan_prediction.csv\")\n",
    "\n",
    "X = df.drop([\"Loan_ID\", \"Loan_Status\"], axis=1)\n",
    "y = df[\"Loan_Status\"]\n",
    "\n",
    "# Train-test split\n",
    "X_train, X_test, y_train, y_test = train_test_split(X, y, test_size=0.2, random_state=42)\n",
    "\n",
    "# Scaling\n",
    "scaler = StandardScaler()\n",
    "X_train_scaled = scaler.fit_transform(X_train)\n",
    "X_test_scaled = scaler.transform(X_test)\n",
    "\n",
    "# Try multiple models\n",
    "models = {\n",
    "    \"Logistic Regression\": LogisticRegression(max_iter=1000),\n",
    "    \"Decision Tree\": DecisionTreeClassifier(),\n",
    "    \"Random Forest\": RandomForestClassifier(random_state=42)\n",
    "}\n",
    "\n",
    "for name, model in models.items():\n",
    "    model.fit(X_train_scaled, y_train)\n",
    "    preds = model.predict(X_test_scaled)\n",
    "    print(f\"\\n\\033[1m{name} Results:\\033[0m\")\n",
    "    print(classification_report(y_test, preds, digits=3))\n",
    "\n",
    "# Hyperparameter Tuning for Random Forest\n",
    "param_grid = {\n",
    "    \"n_estimators\": [100, 200, 300],\n",
    "    \"max_depth\": [None, 5, 10],\n",
    "    \"min_samples_split\": [2, 5]\n",
    "}\n",
    "\n",
    "grid_search = GridSearchCV(RandomForestClassifier(random_state=42), param_grid, cv=5, scoring=\"f1\")\n",
    "grid_search.fit(X_train_scaled, y_train)\n",
    "\n",
    "best_model = grid_search.best_estimator_\n",
    "print(\"\\n\\033[1mBest Random Forest Model from GridSearchCV:\\033[0m\")\n",
    "print(grid_search.best_params_)\n",
    "\n",
    "best_preds = best_model.predict(X_test_scaled)\n",
    "print(\"\\n\\033[1mRandom Forest with Best Params Results:\\033[0m\")\n",
    "print(classification_report(y_test, best_preds, digits=3))"
   ]
  },
  {
   "cell_type": "markdown",
   "id": "2c161d23",
   "metadata": {},
   "source": [
    "## Feature Importances"
   ]
  },
  {
   "cell_type": "code",
   "execution_count": 3,
   "id": "12992926",
   "metadata": {},
   "outputs": [
    {
     "name": "stderr",
     "output_type": "stream",
     "text": [
      "/var/folders/4t/xsjp3gpx3b34h757myxc0qlm0000gn/T/ipykernel_92824/3696479410.py:6: FutureWarning: \n",
      "\n",
      "Passing `palette` without assigning `hue` is deprecated and will be removed in v0.14.0. Assign the `y` variable to `hue` and set `legend=False` for the same effect.\n",
      "\n",
      "  sns.barplot(x=\"Importance\", y=\"Feature\", data=feat_imp_df, palette=\"viridis\")\n"
     ]
    },
    {
     "data": {
      "image/png": "[encoded data removed]",
      "text/plain": [
       "<Figure size 1000x600 with 1 Axes>"
      ]
     },
     "metadata": {},
     "output_type": "display_data"
    }
   ],
   "source": [
    "importances = best_model.feature_importances_\n",
    "feat_names = X.columns\n",
    "feat_imp_df = pd.DataFrame({\"Feature\": feat_names, \"Importance\": importances}).sort_values(by=\"Importance\", ascending=False)\n",
    "\n",
    "plt.figure(figsize=(10,6))\n",
    "sns.barplot(x=\"Importance\", y=\"Feature\", data=feat_imp_df, palette=\"viridis\")\n",
    "plt.title(\"Feature Importances from Random Forest\")\n",
    "plt.show()\n",
    "\n",
    "# SHAP Explanation (global & local)\n",
    "explainer = shap.TreeExplainer(best_model)\n",
    "shap_values = explainer.shap_values(X_train_scaled)"
   ]
  },
  {
   "cell_type": "markdown",
   "id": "6966f4e7",
   "metadata": {},
   "source": [
    "# Save the model"
   ]
  },
  {
   "cell_type": "code",
   "execution_count": 4,
   "id": "3487fc50",
   "metadata": {},
   "outputs": [
    {
     "name": "stdout",
     "output_type": "stream",
     "text": [
      "✅ Model, scaler, and feature list saved successfully.\n"
     ]
    }
   ],
   "source": [
    "# Save the best trained model\n",
    "joblib.dump(best_model, \"../model/loan_approval_model.pkl\")\n",
    "\n",
    "# Save the fitted scaler\n",
    "joblib.dump(scaler, \"../model/scaler.pkl\")\n",
    "\n",
    "# Save the feature column order\n",
    "joblib.dump(X.columns.tolist(), \"../model/model_features.pkl\")\n",
    "\n",
    "print(\"✅ Model, scaler, and feature list saved successfully.\")"
   ]
  },
  {
   "cell_type": "markdown",
   "id": "e31adaec",
   "metadata": {},
   "source": [
    "# Load the model"
   ]
  },
  {
   "cell_type": "code",
   "execution_count": 5,
   "id": "2bcd9b55",
   "metadata": {},
   "outputs": [],
   "source": [
    "# Load saved components\n",
    "model = joblib.load(\"../model/loan_approval_model.pkl\")\n",
    "scaler = joblib.load(\"../model/scaler.pkl\")\n",
    "feature_columns = joblib.load(\"../model/model_features.pkl\")"
   ]
  },
  {
   "cell_type": "markdown",
   "id": "d08f7b76",
   "metadata": {},
   "source": [
    "# Saving Model Metrics"
   ]
  },
  {
   "cell_type": "code",
   "execution_count": 7,
   "id": "424f86ba",
   "metadata": {},
   "outputs": [],
   "source": [
    "import json\n",
    "model_metrics = {\n",
    "    \"accuracy\": float(accuracy_score(y_test, best_preds)),\n",
    "    \"precision\": float(precision_score(y_test, best_preds, average=\"weighted\")),\n",
    "    \"recall\": float(recall_score(y_test, best_preds, average=\"weighted\")),\n",
    "    \"f1_score\": float(f1_score(y_test, best_preds, average=\"weighted\"))\n",
    "}\n",
    "with open(\"../static/data/model_metrics.json\", \"w\") as f:\n",
    "    json.dump(model_metrics, f, indent=4)"
   ]
  },
  {
   "cell_type": "code",
   "execution_count": null,
   "id": "05723137",
   "metadata": {},
   "outputs": [],
   "source": []
  }
 ],
 "metadata": {
  "kernelspec": {
   "display_name": ".venv",
   "language": "python",
   "name": "python3"
  },
  "language_info": {
   "codemirror_mode": {
    "name": "ipython",
    "version": 3
   },
   "file_extension": ".py",
   "mimetype": "text/x-python",
   "name": "python",
   "nbconvert_exporter": "python",
   "pygments_lexer": "ipython3",
   "version": "3.12.9"
  }
 },
 "nbformat": 4,
 "nbformat_minor": 5
}
